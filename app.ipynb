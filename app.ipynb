{
 "cells": [
  {
   "cell_type": "code",
   "execution_count": 2,
   "id": "a9d9c215-9a86-41ac-955a-9d5a64eaa458",
   "metadata": {
    "jupyter": {
     "source_hidden": true
    }
   },
   "outputs": [
    {
     "name": "stdout",
     "output_type": "stream",
     "text": [
      " * Serving Flask app '__main__'\n",
      " * Debug mode: off\n"
     ]
    },
    {
     "name": "stderr",
     "output_type": "stream",
     "text": [
      "WARNING: This is a development server. Do not use it in a production deployment. Use a production WSGI server instead.\n",
      " * Running on http://127.0.0.1:5000\n",
      "Press CTRL+C to quit\n"
     ]
    }
   ],
   "source": [
    "from flask import Flask, request, jsonify\n",
    "import time\n",
    "import nest_asyncio\n",
    "import threading\n",
    "import redis\n",
    "\n",
    "# Fix Jupyter event loop\n",
    "nest_asyncio.apply()\n",
    "\n",
    "# Redis client\n",
    "r = redis.StrictRedis(host='localhost', port=6379, db=0, decode_responses=True)\n",
    "\n",
    "# Flask app\n",
    "app = Flask(__name__)\n",
    "\n",
    "# Config\n",
    "RATE_LIMIT = 5\n",
    "TIME_WINDOW = 60  # seconds\n",
    "\n",
    "# Rate limit check using Redis\n",
    "def is_rate_limited(client_id):\n",
    "    now = int(time.time())\n",
    "    window_start = now - TIME_WINDOW\n",
    "    key = f\"rate_limit:{client_id}\"\n",
    "\n",
    "    # Fetch all request timestamps\n",
    "    request_times = r.lrange(key, 0, -1)\n",
    "    request_times = [int(t) for t in request_times if int(t) > window_start]\n",
    "\n",
    "    # Update the Redis list\n",
    "    r.delete(key)\n",
    "    if request_times:\n",
    "        r.rpush(key, *request_times)\n",
    "\n",
    "    if len(request_times) >= RATE_LIMIT:\n",
    "        return True\n",
    "\n",
    "    # Add current request time\n",
    "    r.rpush(key, now)\n",
    "    r.expire(key, TIME_WINDOW)\n",
    "    return False\n",
    "\n",
    "# Define API endpoint\n",
    "@app.route(\"/api/data\", methods=[\"GET\"])\n",
    "def get_data():\n",
    "    client_ip = request.remote_addr or \"test_user\"\n",
    "    if is_rate_limited(client_ip):\n",
    "        return jsonify({\"error\": \"Rate limit exceeded. Try again later.\"}), 429\n",
    "    return jsonify({\"data\": \"Here’s your awesome API response!\"})\n",
    "\n",
    "# Run Flask in background thread\n",
    "def run_app():\n",
    "    app.run(port=5000)\n",
    "\n",
    "thread = threading.Thread(target=run_app)\n",
    "thread.daemon = True\n",
    "thread.start()"
   ]
  },
  {
   "cell_type": "code",
   "execution_count": 4,
   "id": "0a90db31-174a-4893-a83a-0d59f26eee11",
   "metadata": {},
   "outputs": [
    {
     "name": "stdout",
     "output_type": "stream",
     "text": [
      "[1] Status: 200 - {'data': 'Here’s your awesome API response!'}\n",
      "[2] Status: 200 - {'data': 'Here’s your awesome API response!'}\n",
      "[3] Status: 200 - {'data': 'Here’s your awesome API response!'}\n",
      "[4] Status: 200 - {'data': 'Here’s your awesome API response!'}\n",
      "[5] Status: 200 - {'data': 'Here’s your awesome API response!'}\n",
      "[6] Status: 429 - {'error': 'Rate limit exceeded. Try again later.'}\n",
      "[7] Status: 429 - {'error': 'Rate limit exceeded. Try again later.'}\n"
     ]
    }
   ],
   "source": [
    "import requests\n",
    "\n",
    "for i in range(7):\n",
    "    res = requests.get(\"http://127.0.0.1:5000/api/data\")\n",
    "    try:\n",
    "        print(f\"[{i+1}] Status: {res.status_code} - {res.json()}\")\n",
    "    except:\n",
    "        print(f\"[{i+1}] Status: {res.status_code} - Non-JSON response\")"
   ]
  },
  {
   "cell_type": "code",
   "execution_count": null,
   "id": "35cc1607-9cae-44dd-bf5a-9ae5fc0fd54f",
   "metadata": {},
   "outputs": [],
   "source": []
  }
 ],
 "metadata": {
  "kernelspec": {
   "display_name": "Python 3 (ipykernel)",
   "language": "python",
   "name": "python3"
  },
  "language_info": {
   "codemirror_mode": {
    "name": "ipython",
    "version": 3
   },
   "file_extension": ".py",
   "mimetype": "text/x-python",
   "name": "python",
   "nbconvert_exporter": "python",
   "pygments_lexer": "ipython3",
   "version": "3.12.4"
  }
 },
 "nbformat": 4,
 "nbformat_minor": 5
}
